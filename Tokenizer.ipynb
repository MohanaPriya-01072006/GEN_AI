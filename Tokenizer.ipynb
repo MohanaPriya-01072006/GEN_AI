{
  "nbformat": 4,
  "nbformat_minor": 0,
  "metadata": {
    "colab": {
      "provenance": []
    },
    "kernelspec": {
      "name": "python3",
      "display_name": "Python 3"
    },
    "language_info": {
      "name": "python"
    }
  },
  "cells": [
    {
      "cell_type": "code",
      "execution_count": null,
      "metadata": {
        "id": "tkEXkgk9OP2B"
      },
      "outputs": [],
      "source": [
        "from tensorflow.keras.preprocessing.text import Tokenizer\n",
        "from tensorflow.keras.preprocessing.sequence import pad_sequences\n"
      ]
    },
    {
      "cell_type": "code",
      "source": [
        "texts=['I love deep learning','RNNs are powerful for sequence data','Tokenizer is the first step']"
      ],
      "metadata": {
        "id": "6W05c1OCOjnU"
      },
      "execution_count": null,
      "outputs": []
    },
    {
      "cell_type": "code",
      "source": [
        "#step 1:create the tokenizer\n",
        "tokenizer=Tokenizer()"
      ],
      "metadata": {
        "id": "NB29r5bKO32z"
      },
      "execution_count": null,
      "outputs": []
    },
    {
      "cell_type": "code",
      "source": [
        "#fit the tokenizer\n",
        "tokenizer.fit_on_texts(texts)"
      ],
      "metadata": {
        "id": "hVkVjLvAO9d_"
      },
      "execution_count": null,
      "outputs": []
    },
    {
      "cell_type": "code",
      "source": [
        "#convert text to sequence\n",
        "sequences=tokenizer.texts_to_sequences(texts)"
      ],
      "metadata": {
        "id": "JQsqcyp6PFKg"
      },
      "execution_count": null,
      "outputs": []
    },
    {
      "cell_type": "code",
      "source": [
        "#pad the sequence to make it as equal length\n",
        "padded_sequences=pad_sequences(sequences,padding='pre')"
      ],
      "metadata": {
        "id": "0uCY6Ba4PL-z"
      },
      "execution_count": null,
      "outputs": []
    },
    {
      "cell_type": "code",
      "source": [
        "print(\"Word Index:\\n\",tokenizer.word_index)\n",
        "print(\"\\nSequences:\\n\",sequences)\n",
        "print(\"\\nPadded Sequences:\\n\",padded_sequences)"
      ],
      "metadata": {
        "colab": {
          "base_uri": "https://localhost:8080/"
        },
        "id": "yfqQ-I5yQYLZ",
        "outputId": "bb2333e5-75d0-47eb-9322-223c791a8e12"
      },
      "execution_count": null,
      "outputs": [
        {
          "output_type": "stream",
          "name": "stdout",
          "text": [
            "Word Index:\n",
            " {'i': 1, 'love': 2, 'deep': 3, 'learning': 4, 'rnns': 5, 'are': 6, 'powerful': 7, 'for': 8, 'sequence': 9, 'data': 10, 'tokenizer': 11, 'is': 12, 'the': 13, 'first': 14, 'step': 15}\n",
            "\n",
            "Sequences:\n",
            " [[1, 2, 3, 4], [5, 6, 7, 8, 9, 10], [11, 12, 13, 14, 15]]\n",
            "\n",
            "Padded Sequences:\n",
            " [[ 0  0  1  2  3  4]\n",
            " [ 5  6  7  8  9 10]\n",
            " [ 0 11 12 13 14 15]]\n"
          ]
        }
      ]
    }
  ]
}