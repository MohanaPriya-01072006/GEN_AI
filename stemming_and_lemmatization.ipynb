{
  "nbformat": 4,
  "nbformat_minor": 0,
  "metadata": {
    "colab": {
      "provenance": []
    },
    "kernelspec": {
      "name": "python3",
      "display_name": "Python 3"
    },
    "language_info": {
      "name": "python"
    }
  },
  "cells": [
    {
      "cell_type": "code",
      "execution_count": 1,
      "metadata": {
        "id": "l-k9Xfl4qMnW"
      },
      "outputs": [],
      "source": [
        "import nltk\n",
        "from nltk.stem import PorterStemmer,WordNetLemmatizer\n"
      ]
    },
    {
      "cell_type": "code",
      "source": [
        "nltk.download('wordnet')\n",
        "nltk.download('punkt')"
      ],
      "metadata": {
        "colab": {
          "base_uri": "https://localhost:8080/"
        },
        "id": "O42k1QyhqcVy",
        "outputId": "43ca2a49-bcaa-4de8-ba68-44e92ba732fa"
      },
      "execution_count": 2,
      "outputs": [
        {
          "output_type": "stream",
          "name": "stderr",
          "text": [
            "[nltk_data] Downloading package wordnet to /root/nltk_data...\n",
            "[nltk_data] Downloading package punkt to /root/nltk_data...\n",
            "[nltk_data]   Unzipping tokenizers/punkt.zip.\n"
          ]
        },
        {
          "output_type": "execute_result",
          "data": {
            "text/plain": [
              "True"
            ]
          },
          "metadata": {},
          "execution_count": 2
        }
      ]
    },
    {
      "cell_type": "code",
      "source": [
        "text='In a quiet village, a clever green parrot named Mithu lived with an old bookseller who read aloud from his books every day. Mithu quickly learned to mimic many words and phrases. One night, a thief entered the shop to steal money. As the thief tiptoed around, Mithu suddenly squawked, “Thief! Thief! Catch him!” loud enough to wake the neighbors. Startled, the thief ran out in panic but was soon caught by the villagers. From that day, Mithu was not just a pet, but a little hero known throughout the village for his bravery.'"
      ],
      "metadata": {
        "id": "xB0th0uyqlp0"
      },
      "execution_count": 6,
      "outputs": []
    },
    {
      "cell_type": "code",
      "source": [
        "stemmer=PorterStemmer()\n",
        "stemmed_words=[stemmer.stem(word) for word in text.split()]\n",
        "print(stemmed_words)"
      ],
      "metadata": {
        "colab": {
          "base_uri": "https://localhost:8080/"
        },
        "id": "PTvd17k9qyO2",
        "outputId": "5a63d2ed-95d0-4f88-aafa-e8d88286a90d"
      },
      "execution_count": 7,
      "outputs": [
        {
          "output_type": "stream",
          "name": "stdout",
          "text": [
            "['in', 'a', 'quiet', 'village,', 'a', 'clever', 'green', 'parrot', 'name', 'mithu', 'live', 'with', 'an', 'old', 'booksel', 'who', 'read', 'aloud', 'from', 'hi', 'book', 'everi', 'day.', 'mithu', 'quickli', 'learn', 'to', 'mimic', 'mani', 'word', 'and', 'phrases.', 'one', 'night,', 'a', 'thief', 'enter', 'the', 'shop', 'to', 'steal', 'money.', 'as', 'the', 'thief', 'tipto', 'around,', 'mithu', 'suddenli', 'squawked,', '“thief!', 'thief!', 'catch', 'him!”', 'loud', 'enough', 'to', 'wake', 'the', 'neighbors.', 'startled,', 'the', 'thief', 'ran', 'out', 'in', 'panic', 'but', 'wa', 'soon', 'caught', 'by', 'the', 'villagers.', 'from', 'that', 'day,', 'mithu', 'wa', 'not', 'just', 'a', 'pet,', 'but', 'a', 'littl', 'hero', 'known', 'throughout', 'the', 'villag', 'for', 'hi', 'bravery.']\n"
          ]
        }
      ]
    },
    {
      "cell_type": "code",
      "source": [
        "lemmatizer=WordNetLemmatizer()\n",
        "lemmatized_words=[lemmatizer.lemmatize(word) for word in text.split()]\n",
        "print(lemmatized_words)"
      ],
      "metadata": {
        "colab": {
          "base_uri": "https://localhost:8080/"
        },
        "id": "N4jVZApHrCWL",
        "outputId": "bcb259e7-d2e6-47c8-cfd5-ec6c5a447a85"
      },
      "execution_count": 8,
      "outputs": [
        {
          "output_type": "stream",
          "name": "stdout",
          "text": [
            "['In', 'a', 'quiet', 'village,', 'a', 'clever', 'green', 'parrot', 'named', 'Mithu', 'lived', 'with', 'an', 'old', 'bookseller', 'who', 'read', 'aloud', 'from', 'his', 'book', 'every', 'day.', 'Mithu', 'quickly', 'learned', 'to', 'mimic', 'many', 'word', 'and', 'phrases.', 'One', 'night,', 'a', 'thief', 'entered', 'the', 'shop', 'to', 'steal', 'money.', 'As', 'the', 'thief', 'tiptoed', 'around,', 'Mithu', 'suddenly', 'squawked,', '“Thief!', 'Thief!', 'Catch', 'him!”', 'loud', 'enough', 'to', 'wake', 'the', 'neighbors.', 'Startled,', 'the', 'thief', 'ran', 'out', 'in', 'panic', 'but', 'wa', 'soon', 'caught', 'by', 'the', 'villagers.', 'From', 'that', 'day,', 'Mithu', 'wa', 'not', 'just', 'a', 'pet,', 'but', 'a', 'little', 'hero', 'known', 'throughout', 'the', 'village', 'for', 'his', 'bravery.']\n"
          ]
        }
      ]
    }
  ]
}