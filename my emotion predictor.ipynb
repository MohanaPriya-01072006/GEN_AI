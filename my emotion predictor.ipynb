{
  "cells": [
    {
      "cell_type": "code",
      "execution_count": 60,
      "metadata": {
        "id": "MfNJWEq0GnFT"
      },
      "outputs": [],
      "source": [
        "import os\n",
        "import numpy as np\n",
        "import librosa\n",
        "from sklearn.model_selection import train_test_split\n",
        "from sklearn.ensemble import RandomForestClassifier\n",
        "from sklearn.metrics import classification_report, accuracy_score"
      ]
    },
    {
      "cell_type": "code",
      "execution_count": 61,
      "metadata": {
        "id": "E3WPhWsqHaJp"
      },
      "outputs": [],
      "source": [
        "data_dir=r\"/content/drive/MyDrive/audio file\""
      ]
    },
    {
      "cell_type": "code",
      "execution_count": null,
      "metadata": {
        "id": "8yFtlIe4H1N1"
      },
      "outputs": [],
      "source": [
        "# Feature extraction\n",
        "def extract_features(file_path):\n",
        "    try:\n",
        "        audio, sr = librosa.load(file_path, duration=3, offset=0.5)\n",
        "        mfccs = librosa.feature.mfcc(y=audio, sr=sr, n_mfcc=13)\n",
        "        return np.mean(mfccs.T, axis=0)  # ✅ Corrected mfccs\n",
        "    except Exception as e:\n",
        "        print(\"Error loading file:\", file_path, \"|\", e)\n",
        "        return None\n"
      ]
    },
    {
      "cell_type": "code",
      "execution_count": null,
      "metadata": {
        "collapsed": true,
        "id": "FJj_vzXrIb0P"
      },
      "outputs": [],
      "source": [
        "# Extract features and labels\n",
        "features = []\n",
        "labels = []\n",
        "\n",
        "for folder in os.listdir(data_dir):\n",
        "    emotion = folder.split('_')[-1].lower()\n",
        "    folder_path = os.path.join(data_dir, folder)\n",
        "    for filename in os.listdir(folder_path):\n",
        "        file_path = os.path.join(folder_path, filename)\n",
        "        mfcc = extract_features(file_path)\n",
        "        if mfcc is not None:\n",
        "            features.append(mfcc)\n",
        "            labels.append(emotion)\n"
      ]
    },
    {
      "cell_type": "code",
      "execution_count": null,
      "metadata": {
        "id": "TUtvPjAgJXwK"
      },
      "outputs": [],
      "source": [
        "# Convert to numpy arrays\n",
        "x = np.array(features)\n",
        "y = np.array(labels)\n"
      ]
    },
    {
      "cell_type": "code",
      "execution_count": null,
      "metadata": {
        "id": "AQ-a3sVEJciz"
      },
      "outputs": [],
      "source": [
        "# Debug: Check shape\n",
        "print(\"Feature matrix shape:\", x.shape)\n",
        "print(\"Labels shape:\", y.shape)\n",
        "\n",
        "# Train/test split\n",
        "x_train, x_test, y_train, y_test = train_test_split(x, y, test_size=0.2, random_state=42)\n",
        "\n",
        "# Train model\n",
        "model = RandomForestClassifier()\n",
        "model.fit(x_train, y_train)\n",
        "\n",
        "# Predict\n",
        "y_pred = model.predict(x_test)\n",
        "\n",
        "# Evaluate\n",
        "accuracy = accuracy_score(y_test, y_pred)"
      ]
    },
    {
      "cell_type": "code",
      "execution_count": null,
      "metadata": {
        "id": "uw97q9-uJynF"
      },
      "outputs": [],
      "source": [
        "print(\"Accuracy\",accuracy_score(y_test,y_pred))\n",
        "print(\"\\nclassification_report:\\n\",classification_report(y_test,y_pred))"
      ]
    },
    {
      "cell_type": "code",
      "execution_count": null,
      "metadata": {
        "colab": {
          "base_uri": "https://localhost:8080/",
          "height": 38
        },
        "id": "4RubNRWJLQQ6",
        "outputId": "2392f40e-ed3e-409d-e8e4-32a2d7e04699"
      },
      "outputs": [
        {
          "data": {
            "text/html": [
              "\n",
              "     <input type=\"file\" id=\"files-b42f4f21-248a-4c33-91ce-96af22d99f6a\" name=\"files[]\" multiple disabled\n",
              "        style=\"border:none\" />\n",
              "     <output id=\"result-b42f4f21-248a-4c33-91ce-96af22d99f6a\">\n",
              "      Upload widget is only available when the cell has been executed in the\n",
              "      current browser session. Please rerun this cell to enable.\n",
              "      </output>\n",
              "      <script>// Copyright 2017 Google LLC\n",
              "//\n",
              "// Licensed under the Apache License, Version 2.0 (the \"License\");\n",
              "// you may not use this file except in compliance with the License.\n",
              "// You may obtain a copy of the License at\n",
              "//\n",
              "//      http://www.apache.org/licenses/LICENSE-2.0\n",
              "//\n",
              "// Unless required by applicable law or agreed to in writing, software\n",
              "// distributed under the License is distributed on an \"AS IS\" BASIS,\n",
              "// WITHOUT WARRANTIES OR CONDITIONS OF ANY KIND, either express or implied.\n",
              "// See the License for the specific language governing permissions and\n",
              "// limitations under the License.\n",
              "\n",
              "/**\n",
              " * @fileoverview Helpers for google.colab Python module.\n",
              " */\n",
              "(function(scope) {\n",
              "function span(text, styleAttributes = {}) {\n",
              "  const element = document.createElement('span');\n",
              "  element.textContent = text;\n",
              "  for (const key of Object.keys(styleAttributes)) {\n",
              "    element.style[key] = styleAttributes[key];\n",
              "  }\n",
              "  return element;\n",
              "}\n",
              "\n",
              "// Max number of bytes which will be uploaded at a time.\n",
              "const MAX_PAYLOAD_SIZE = 100 * 1024;\n",
              "\n",
              "function _uploadFiles(inputId, outputId) {\n",
              "  const steps = uploadFilesStep(inputId, outputId);\n",
              "  const outputElement = document.getElementById(outputId);\n",
              "  // Cache steps on the outputElement to make it available for the next call\n",
              "  // to uploadFilesContinue from Python.\n",
              "  outputElement.steps = steps;\n",
              "\n",
              "  return _uploadFilesContinue(outputId);\n",
              "}\n",
              "\n",
              "// This is roughly an async generator (not supported in the browser yet),\n",
              "// where there are multiple asynchronous steps and the Python side is going\n",
              "// to poll for completion of each step.\n",
              "// This uses a Promise to block the python side on completion of each step,\n",
              "// then passes the result of the previous step as the input to the next step.\n",
              "function _uploadFilesContinue(outputId) {\n",
              "  const outputElement = document.getElementById(outputId);\n",
              "  const steps = outputElement.steps;\n",
              "\n",
              "  const next = steps.next(outputElement.lastPromiseValue);\n",
              "  return Promise.resolve(next.value.promise).then((value) => {\n",
              "    // Cache the last promise value to make it available to the next\n",
              "    // step of the generator.\n",
              "    outputElement.lastPromiseValue = value;\n",
              "    return next.value.response;\n",
              "  });\n",
              "}\n",
              "\n",
              "/**\n",
              " * Generator function which is called between each async step of the upload\n",
              " * process.\n",
              " * @param {string} inputId Element ID of the input file picker element.\n",
              " * @param {string} outputId Element ID of the output display.\n",
              " * @return {!Iterable<!Object>} Iterable of next steps.\n",
              " */\n",
              "function* uploadFilesStep(inputId, outputId) {\n",
              "  const inputElement = document.getElementById(inputId);\n",
              "  inputElement.disabled = false;\n",
              "\n",
              "  const outputElement = document.getElementById(outputId);\n",
              "  outputElement.innerHTML = '';\n",
              "\n",
              "  const pickedPromise = new Promise((resolve) => {\n",
              "    inputElement.addEventListener('change', (e) => {\n",
              "      resolve(e.target.files);\n",
              "    });\n",
              "  });\n",
              "\n",
              "  const cancel = document.createElement('button');\n",
              "  inputElement.parentElement.appendChild(cancel);\n",
              "  cancel.textContent = 'Cancel upload';\n",
              "  const cancelPromise = new Promise((resolve) => {\n",
              "    cancel.onclick = () => {\n",
              "      resolve(null);\n",
              "    };\n",
              "  });\n",
              "\n",
              "  // Wait for the user to pick the files.\n",
              "  const files = yield {\n",
              "    promise: Promise.race([pickedPromise, cancelPromise]),\n",
              "    response: {\n",
              "      action: 'starting',\n",
              "    }\n",
              "  };\n",
              "\n",
              "  cancel.remove();\n",
              "\n",
              "  // Disable the input element since further picks are not allowed.\n",
              "  inputElement.disabled = true;\n",
              "\n",
              "  if (!files) {\n",
              "    return {\n",
              "      response: {\n",
              "        action: 'complete',\n",
              "      }\n",
              "    };\n",
              "  }\n",
              "\n",
              "  for (const file of files) {\n",
              "    const li = document.createElement('li');\n",
              "    li.append(span(file.name, {fontWeight: 'bold'}));\n",
              "    li.append(span(\n",
              "        `(${file.type || 'n/a'}) - ${file.size} bytes, ` +\n",
              "        `last modified: ${\n",
              "            file.lastModifiedDate ? file.lastModifiedDate.toLocaleDateString() :\n",
              "                                    'n/a'} - `));\n",
              "    const percent = span('0% done');\n",
              "    li.appendChild(percent);\n",
              "\n",
              "    outputElement.appendChild(li);\n",
              "\n",
              "    const fileDataPromise = new Promise((resolve) => {\n",
              "      const reader = new FileReader();\n",
              "      reader.onload = (e) => {\n",
              "        resolve(e.target.result);\n",
              "      };\n",
              "      reader.readAsArrayBuffer(file);\n",
              "    });\n",
              "    // Wait for the data to be ready.\n",
              "    let fileData = yield {\n",
              "      promise: fileDataPromise,\n",
              "      response: {\n",
              "        action: 'continue',\n",
              "      }\n",
              "    };\n",
              "\n",
              "    // Use a chunked sending to avoid message size limits. See b/62115660.\n",
              "    let position = 0;\n",
              "    do {\n",
              "      const length = Math.min(fileData.byteLength - position, MAX_PAYLOAD_SIZE);\n",
              "      const chunk = new Uint8Array(fileData, position, length);\n",
              "      position += length;\n",
              "\n",
              "      const base64 = btoa(String.fromCharCode.apply(null, chunk));\n",
              "      yield {\n",
              "        response: {\n",
              "          action: 'append',\n",
              "          file: file.name,\n",
              "          data: base64,\n",
              "        },\n",
              "      };\n",
              "\n",
              "      let percentDone = fileData.byteLength === 0 ?\n",
              "          100 :\n",
              "          Math.round((position / fileData.byteLength) * 100);\n",
              "      percent.textContent = `${percentDone}% done`;\n",
              "\n",
              "    } while (position < fileData.byteLength);\n",
              "  }\n",
              "\n",
              "  // All done.\n",
              "  yield {\n",
              "    response: {\n",
              "      action: 'complete',\n",
              "    }\n",
              "  };\n",
              "}\n",
              "\n",
              "scope.google = scope.google || {};\n",
              "scope.google.colab = scope.google.colab || {};\n",
              "scope.google.colab._files = {\n",
              "  _uploadFiles,\n",
              "  _uploadFilesContinue,\n",
              "};\n",
              "})(self);\n",
              "</script> "
            ],
            "text/plain": [
              "<IPython.core.display.HTML object>"
            ]
          },
          "metadata": {},
          "output_type": "display_data"
        }
      ],
      "source": [
        "from google.colab import files\n",
        "uploaded=files.upload()\n",
        "def predict_emotion(file_path):\n",
        "  mfcc=extract_features(file_path)\n",
        "  if mfcc is not None:\n",
        "    return model.predict(mfcc.reshape(1,-1))[0]\n",
        "  else:\n",
        "    return \"could not process audio\""
      ]
    },
    {
      "cell_type": "code",
      "execution_count": null,
      "metadata": {
        "id": "emyDvZD0Lzxc"
      },
      "outputs": [],
      "source": [
        "for fname in uploaded.keys():\n",
        "  print(f\"{fname}:{predict_emotion(fname)}\")"
      ]
    },
    {
      "cell_type": "code",
      "execution_count": null,
      "metadata": {
        "id": "yQygmR0nWeV2"
      },
      "outputs": [],
      "source": [
        "from google.colab import drive\n",
        "drive.mount('/content/drive')\n"
      ]
    },
    {
      "cell_type": "code",
      "execution_count": null,
      "metadata": {
        "id": "_otbTImkXGIw"
      },
      "outputs": [],
      "source": [
        "data_dir = \"/content/drive/MyDrive/team audio\"\n"
      ]
    },
    {
      "cell_type": "code",
      "execution_count": 66,
      "metadata": {
        "colab": {
          "base_uri": "https://localhost:8080/"
        },
        "id": "QA_P6cjdXohJ",
        "outputId": "05dce1c7-e0ef-44f2-f060-56f16ff5d884"
      },
      "outputs": [
        {
          "output_type": "stream",
          "name": "stdout",
          "text": [
            "✅ Feature shape: (20, 13)\n",
            "✅ Labels: {np.str_('vishali'), np.str_('bhuvana')}\n",
            "✅ Total samples: 20\n",
            "🎯 Accuracy: 1.0\n",
            "📊 Classification Report:\n",
            "              precision    recall  f1-score   support\n",
            "\n",
            "     bhuvana       1.00      1.00      1.00         2\n",
            "     vishali       1.00      1.00      1.00         2\n",
            "\n",
            "    accuracy                           1.00         4\n",
            "   macro avg       1.00      1.00      1.00         4\n",
            "weighted avg       1.00      1.00      1.00         4\n",
            "\n"
          ]
        }
      ],
      "source": [
        "import os\n",
        "import numpy as np\n",
        "import librosa\n",
        "from sklearn.model_selection import train_test_split\n",
        "from sklearn.ensemble import RandomForestClassifier\n",
        "from sklearn.metrics import classification_report, accuracy_score\n",
        "\n",
        "# ✅ Path to your Google Drive folder (update this if needed)\n",
        "data_dir = \"/content/drive/MyDrive/team audio\"\n",
        "\n",
        "# ✅ Function to extract MFCC features from an audio file\n",
        "def extract_features(file_path):\n",
        "    try:\n",
        "        audio, sr = librosa.load(file_path, duration=3, offset=0.5)\n",
        "        mfccs = librosa.feature.mfcc(y=audio, sr=sr, n_mfcc=13)\n",
        "        return np.mean(mfccs.T, axis=0)\n",
        "    except Exception as e:\n",
        "        print(f\"❌ Error loading: {file_path} | {e}\")\n",
        "        return None\n",
        "\n",
        "# ✅ Feature extraction\n",
        "features = []\n",
        "labels = []\n",
        "\n",
        "for folder in os.listdir(data_dir):\n",
        "    folder_path = os.path.join(data_dir, folder)\n",
        "    emotion = folder.lower()  # Label is the folder name\n",
        "\n",
        "    if not os.path.isdir(folder_path):\n",
        "        continue\n",
        "\n",
        "    for filename in os.listdir(folder_path):\n",
        "        file_path = os.path.join(folder_path, filename)\n",
        "\n",
        "        # ✅ Skip if it's not a file (e.g., skip inner folders)\n",
        "        if not os.path.isfile(file_path):\n",
        "            continue\n",
        "\n",
        "        mfcc = extract_features(file_path)\n",
        "        if mfcc is not None:\n",
        "            features.append(mfcc)\n",
        "            labels.append(emotion)\n",
        "\n",
        "# ✅ Convert to numpy arrays\n",
        "X = np.array(features)\n",
        "y = np.array(labels)\n",
        "\n",
        "print(\"✅ Feature shape:\", X.shape)\n",
        "print(\"✅ Labels:\", set(y))\n",
        "print(\"✅ Total samples:\", len(y))\n",
        "\n",
        "# ✅ Train/test split\n",
        "X_train, X_test, y_train, y_test = train_test_split(X, y, test_size=0.2, random_state=42)\n",
        "\n",
        "# ✅ Train the Random Forest model\n",
        "model = RandomForestClassifier()\n",
        "model.fit(X_train, y_train)\n",
        "\n",
        "# ✅ Predict & Evaluate\n",
        "y_pred = model.predict(X_test)\n",
        "accuracy = accuracy_score(y_test, y_pred)\n",
        "\n",
        "print(\"🎯 Accuracy:\", accuracy)\n",
        "print(\"📊 Classification Report:\")\n",
        "print(classification_report(y_test, y_pred))\n"
      ]
    },
    {
      "cell_type": "code",
      "execution_count": 67,
      "metadata": {
        "colab": {
          "base_uri": "https://localhost:8080/",
          "height": 166
        },
        "id": "rIQjAHW5X39Z",
        "outputId": "2a7d878c-2ffc-4d1d-97de-cefec863e6a8"
      },
      "outputs": [
        {
          "output_type": "display_data",
          "data": {
            "text/plain": [
              "<IPython.core.display.HTML object>"
            ],
            "text/html": [
              "\n",
              "     <input type=\"file\" id=\"files-2d8676a9-289b-4a26-b403-6a650fdbe65b\" name=\"files[]\" multiple disabled\n",
              "        style=\"border:none\" />\n",
              "     <output id=\"result-2d8676a9-289b-4a26-b403-6a650fdbe65b\">\n",
              "      Upload widget is only available when the cell has been executed in the\n",
              "      current browser session. Please rerun this cell to enable.\n",
              "      </output>\n",
              "      <script>// Copyright 2017 Google LLC\n",
              "//\n",
              "// Licensed under the Apache License, Version 2.0 (the \"License\");\n",
              "// you may not use this file except in compliance with the License.\n",
              "// You may obtain a copy of the License at\n",
              "//\n",
              "//      http://www.apache.org/licenses/LICENSE-2.0\n",
              "//\n",
              "// Unless required by applicable law or agreed to in writing, software\n",
              "// distributed under the License is distributed on an \"AS IS\" BASIS,\n",
              "// WITHOUT WARRANTIES OR CONDITIONS OF ANY KIND, either express or implied.\n",
              "// See the License for the specific language governing permissions and\n",
              "// limitations under the License.\n",
              "\n",
              "/**\n",
              " * @fileoverview Helpers for google.colab Python module.\n",
              " */\n",
              "(function(scope) {\n",
              "function span(text, styleAttributes = {}) {\n",
              "  const element = document.createElement('span');\n",
              "  element.textContent = text;\n",
              "  for (const key of Object.keys(styleAttributes)) {\n",
              "    element.style[key] = styleAttributes[key];\n",
              "  }\n",
              "  return element;\n",
              "}\n",
              "\n",
              "// Max number of bytes which will be uploaded at a time.\n",
              "const MAX_PAYLOAD_SIZE = 100 * 1024;\n",
              "\n",
              "function _uploadFiles(inputId, outputId) {\n",
              "  const steps = uploadFilesStep(inputId, outputId);\n",
              "  const outputElement = document.getElementById(outputId);\n",
              "  // Cache steps on the outputElement to make it available for the next call\n",
              "  // to uploadFilesContinue from Python.\n",
              "  outputElement.steps = steps;\n",
              "\n",
              "  return _uploadFilesContinue(outputId);\n",
              "}\n",
              "\n",
              "// This is roughly an async generator (not supported in the browser yet),\n",
              "// where there are multiple asynchronous steps and the Python side is going\n",
              "// to poll for completion of each step.\n",
              "// This uses a Promise to block the python side on completion of each step,\n",
              "// then passes the result of the previous step as the input to the next step.\n",
              "function _uploadFilesContinue(outputId) {\n",
              "  const outputElement = document.getElementById(outputId);\n",
              "  const steps = outputElement.steps;\n",
              "\n",
              "  const next = steps.next(outputElement.lastPromiseValue);\n",
              "  return Promise.resolve(next.value.promise).then((value) => {\n",
              "    // Cache the last promise value to make it available to the next\n",
              "    // step of the generator.\n",
              "    outputElement.lastPromiseValue = value;\n",
              "    return next.value.response;\n",
              "  });\n",
              "}\n",
              "\n",
              "/**\n",
              " * Generator function which is called between each async step of the upload\n",
              " * process.\n",
              " * @param {string} inputId Element ID of the input file picker element.\n",
              " * @param {string} outputId Element ID of the output display.\n",
              " * @return {!Iterable<!Object>} Iterable of next steps.\n",
              " */\n",
              "function* uploadFilesStep(inputId, outputId) {\n",
              "  const inputElement = document.getElementById(inputId);\n",
              "  inputElement.disabled = false;\n",
              "\n",
              "  const outputElement = document.getElementById(outputId);\n",
              "  outputElement.innerHTML = '';\n",
              "\n",
              "  const pickedPromise = new Promise((resolve) => {\n",
              "    inputElement.addEventListener('change', (e) => {\n",
              "      resolve(e.target.files);\n",
              "    });\n",
              "  });\n",
              "\n",
              "  const cancel = document.createElement('button');\n",
              "  inputElement.parentElement.appendChild(cancel);\n",
              "  cancel.textContent = 'Cancel upload';\n",
              "  const cancelPromise = new Promise((resolve) => {\n",
              "    cancel.onclick = () => {\n",
              "      resolve(null);\n",
              "    };\n",
              "  });\n",
              "\n",
              "  // Wait for the user to pick the files.\n",
              "  const files = yield {\n",
              "    promise: Promise.race([pickedPromise, cancelPromise]),\n",
              "    response: {\n",
              "      action: 'starting',\n",
              "    }\n",
              "  };\n",
              "\n",
              "  cancel.remove();\n",
              "\n",
              "  // Disable the input element since further picks are not allowed.\n",
              "  inputElement.disabled = true;\n",
              "\n",
              "  if (!files) {\n",
              "    return {\n",
              "      response: {\n",
              "        action: 'complete',\n",
              "      }\n",
              "    };\n",
              "  }\n",
              "\n",
              "  for (const file of files) {\n",
              "    const li = document.createElement('li');\n",
              "    li.append(span(file.name, {fontWeight: 'bold'}));\n",
              "    li.append(span(\n",
              "        `(${file.type || 'n/a'}) - ${file.size} bytes, ` +\n",
              "        `last modified: ${\n",
              "            file.lastModifiedDate ? file.lastModifiedDate.toLocaleDateString() :\n",
              "                                    'n/a'} - `));\n",
              "    const percent = span('0% done');\n",
              "    li.appendChild(percent);\n",
              "\n",
              "    outputElement.appendChild(li);\n",
              "\n",
              "    const fileDataPromise = new Promise((resolve) => {\n",
              "      const reader = new FileReader();\n",
              "      reader.onload = (e) => {\n",
              "        resolve(e.target.result);\n",
              "      };\n",
              "      reader.readAsArrayBuffer(file);\n",
              "    });\n",
              "    // Wait for the data to be ready.\n",
              "    let fileData = yield {\n",
              "      promise: fileDataPromise,\n",
              "      response: {\n",
              "        action: 'continue',\n",
              "      }\n",
              "    };\n",
              "\n",
              "    // Use a chunked sending to avoid message size limits. See b/62115660.\n",
              "    let position = 0;\n",
              "    do {\n",
              "      const length = Math.min(fileData.byteLength - position, MAX_PAYLOAD_SIZE);\n",
              "      const chunk = new Uint8Array(fileData, position, length);\n",
              "      position += length;\n",
              "\n",
              "      const base64 = btoa(String.fromCharCode.apply(null, chunk));\n",
              "      yield {\n",
              "        response: {\n",
              "          action: 'append',\n",
              "          file: file.name,\n",
              "          data: base64,\n",
              "        },\n",
              "      };\n",
              "\n",
              "      let percentDone = fileData.byteLength === 0 ?\n",
              "          100 :\n",
              "          Math.round((position / fileData.byteLength) * 100);\n",
              "      percent.textContent = `${percentDone}% done`;\n",
              "\n",
              "    } while (position < fileData.byteLength);\n",
              "  }\n",
              "\n",
              "  // All done.\n",
              "  yield {\n",
              "    response: {\n",
              "      action: 'complete',\n",
              "    }\n",
              "  };\n",
              "}\n",
              "\n",
              "scope.google = scope.google || {};\n",
              "scope.google.colab = scope.google.colab || {};\n",
              "scope.google.colab._files = {\n",
              "  _uploadFiles,\n",
              "  _uploadFilesContinue,\n",
              "};\n",
              "})(self);\n",
              "</script> "
            ]
          },
          "metadata": {}
        },
        {
          "output_type": "stream",
          "name": "stdout",
          "text": [
            "Saving WhatsApp Audio 2025-07-18 at 12.04.12_64934e8e.waptt.opus to WhatsApp Audio 2025-07-18 at 12.04.12_64934e8e.waptt (2).opus\n",
            "🎧 Playing: WhatsApp Audio 2025-07-18 at 12.04.12_64934e8e.waptt (2).opus\n"
          ]
        },
        {
          "output_type": "display_data",
          "data": {
            "text/plain": [
              "<IPython.lib.display.Audio object>"
            ],
            "text/html": [
              "\n",
              "                <audio  controls=\"controls\" >\n",
              "                    <source src=\"data:audio/ogg;base64,T2dnUwACAAAAAAAAAAAAAAAAAAAAACqCBoIBE09wdXNIZWFkAQFoAIA+AAAAAABPZ2dTAAAAAAAAAAAAAAAAAAABAAAAjzLsvAEYT3B1c1RhZ3MIAAAAV2hhdHNBcHAAAAAAT2dnUwAA6FEBAAAAAAAAAAAAAgAAAGrLvfob6f9F/xv/Uv8s/wL/Sv82/wn/KP8e/f8k9v81S4YHITArLwvkwTbsxYCAB1dOEEMYWQQuDMFs+xcmawsmT6hiyOmW7cRvVznwC7CLlBpFKCLsZ6YHczSyIF4PpiOAgaGg9oDEVlHj4TqzoJRgb3KcUvuWUS2Ng2kMe3CB+w1TWSGUYGQuZF/BdivEQkMBGb7WgLpf7e2ibUDN5BsLTSsf/5ANyGmmi2dXRfOuURCS5y14D1djuiWnPfZ0BxfzTy12oPOSz6TRR4yp+ocYSltZ7JHozAiLY4+a0cWQNdNuQkqQTaDrqVMgGLt+4zfvY932P7Zbqa6eK+w6OWOPS8qI2i7ekmBLhjg7NzgwnkroMoamTHdH1+cX2JLinaNRgwIJU7BKmcQKrV8JOoOGCeg5UjZJQMe5HI4IecoJi6ZNZOqkF6CdfyY9M0StFQ0nq/SEesdCSkGdSKadcsN/jrhjtpuhniBmtENnrAGfXcLO2zqUD980Ca9NH92MVRCoOJ6ojvnWH25tW3WyQMpHEu3rrgTHHboph0zGuDiaNhvb9rxHpEdwEybDBy7fxu+9ksCwNmxSFqCezNTXtFQfX/xKJHk5O4+s06ocyZzlvdBVKvJ4ohXdodVyJaxYjMlMDplYnltTWefpMWJ8rbEvuK2PV+RoyVXel/n9kiDcluM32uza4pKFA1oZe0/w7TYjnQJlcb8CbB+3etjO8qNSYIM0kDOiw/iq3dJjWHylWgiQVmn5XkXJrCZYjKD7CveU0+SUDQhY56QmmkBLhjIsJygvg+0WQB8ELs5HEbhUj9YhiNN2rvFSRqtINbHgIdO2DOcoi6UF46F4aK1L1WKPnwS05xS0xDzgyAqZSjPAMp4KiJNX3SIsI0bzUuiOgEIODs237z+QE7YJdUE4puBkOqxniJTwo/aQNZ/JRBVPrYcYhSNu+laRwvWjncmzfBoyfoNUkfqV9KseedDnw17nipotB5kP76YUxF2Jt+j4qCrnhHVP0oReS1+rA7wa+Tio3z/YOSisTTCHO/+l0QS4RelDyzQuAaFP2xqHgxyaR2cQKT0heHxfRDqpQV7RwJ68544ED5DOKdJoUXeEwTSKaRPkvxmJ0Ooe2+dqQ+KPHY6JPhk681AT3JCMS3JweheIXVbmdOBLhj06NjI6nueo0VkOfuZbqDmw8KCXKbFRBmLUek6E8qdJDsbNrL8IKJA2T2v1LBpxAESVGLLaCfp7qa+2fAzicdUUpKQIujqlMZ4+quVgZNiIe3I7sTJ0gHcDYsp7J2vnnil9d+v8Na3+B/A6UojUlVW+9CHJS46WsSG0b4CmzgW3S3MUQqv/O3FSM7OSaLYOMpBfrNgvZcY/aruQQYN8lr92HWjcHQpjC3T15icDyy8B8oCtogVvN8GC37mer0QO4wJ8KZiA6Y9y9MzDeT+Z786as9oiO+nXDU2zTiXVhQ4TBHxAVrUFDcVuOYVT10I/X67cakfRXshG77KL3zrDWmXtpjt1YwjZZVwf09dwOMVkEUHivL+iOPhg4o4o5fC08fMYzq5TooNel081oYtDGHxVICyljW7U6gk4sTbNfCQ8Ibg5u0ITr+LOIvYVucAbS4Y5NS43Lr8+iW7JIRVlFcqAbX9GrHYnqzZZVtWt+at+KNMUueq0xNSdzkmQphV3GmAPDUWw0t52QgZzSNiDgJSeADuruit/4+lFY93KlDRvbJ7zEXEECPwP2PHYtnCogHCBVT45DGiO/XdBJGHeO/kA9YJAhM7arwcEjnu3GtJ6eQqkm9r7dOucZ6FJ/dnYCtBFzUiaVO1R2X6JT5zSGctcIbS05fh1V4FvUEAGM9OXGma0PU/L8CbMuvSFr+6UsJGAfge3eRd04ifMoZpUkmR2LZN8d7CYw8Cs/VQgvYXopBzPaCDVUzu3xno/t9JNXZws8NxvDSGEncI7waiOpJAm6V3KYOUYrsZnpmuYy8RYdXKGf7NmddnzAkSmlrSvIxbPFgDV7r4VMTBLhh8mJS4xsD7GD7GlJSUg4l63/4t7UU1AtYoV81bw40E6XMX14q5dRGGyG5b5R30P1Yj/wNoPlAZO7BK8xFNhr3S2tkkAnqNUZyLbrGVGw+gnwfV9stsGuF7TJwk3+8ENIthy5Hqn9sGh15NL+6UVwKlKl5SPevtN6bMYVqiqVoVDgFhMEBTJYguMGKksARfqFb7lI18gX9UuibenDOCmLDQYQbuOj8Bps8jZLJ1NUMXcX9yY07GrjDDVqh1mJ2meVQOdJghHh2v/GauXGBUgpOO8V+/lyy8K+2WI2Ff1QN0GhIjz90Lj5jN9Nob4P2lnUdRuPLx33BdLvpaZL18CNEuGOzc0NjKjlkOtsQ429QUqc7+tT0hBLBMdJ8z4270X4of4DJcK79X7iwEEFQ1gIHHzRRQNatchjH3yJhAGn0TXQKFN/VV4nabF/OKfTGMv2wsC0WMFzzoXfrDrLjXDqFOavqWQTWIiB0d0VoJbCElXjs2AootBj4CigczLBQWtkck4lIBeSbJKVGAHujQlnbZr/YnaKK6h+6TyPIelYwHmxyJYvdKgvvy8JUKmoij8wN/QXBTDFl/1iaEvDUWmBbV7wXru+WRAp3LsnT8I9HInh6MmCTwYGFvPQ8JyETaZUudooQpowXIHyiIGAi+Cv9LTXwUjggqJMOsKw73Kg/W2ksJwD9Z6GAfNwKOAxIg237tUUvCgNxh7G+jtk+os+9WHtypIyRbbtQGSuHBuhfz5vPmsTOTBwGdIis++7+VMkVH/9H1jun18S4Y2MjU2L6PMtqoy2iF2xLbHljbaJuLzW6O1YMbv9uLKc5r97OHzX7m4Anb/8i6gEOQfAMvLXlxHiQSFK44jY9ajZSsJ6ZQQwGUF0tm4FYrTJx4zhnmEPoJyEQQJBZolAKK0Vwnxly53OvxyPl4spUuXFk07TlgmMbrmmn7WKQg7rMxf7IV6NMrptCod5FpFmrQRt6cf9RDE6KtN3Ga+w4yXIxCm0mzVciscBLp9xYMOHu7jnTcBc/quM/qiKBATCmGORtBnsE62tfcCAMl6rsYVPdR49ZKRHbCqFbDtfE7l6IMsc7W02ZzILgz9p7UI2q/u9YsJzH2/bTdsu+TTFhzKdJpMxnVDzauGroig7T/WVBPP9B6bpb5CWQ/oVQVny62X3ieciFPu/4Mnive1aC1T7uhAS4YyLiczIq7GbrQqJNPTyHO1wpQdps9u8RrOSc2qhrX5nr2mnJn9P5GZjF6N2OYX/C1cyxUX2CoxsD8CeCGK1xmdAkCt3qy0fwJyme4PKperSzvGql5XMasm4PlpIRLCvStVxj2Q2q/Di/jMisogFKe67paknt4Hs6mVnJuZC2UDa3RmQGVjlOfllWU3JKqSA/RRiIfk4fWSs0rIPRDCnO+gaUvKh7afZ85fDdRBwRnNDocEgUyqVMycDgCNFC1vlwWrILGLkCi70C7ljFjaESvXcgasI4SpGKTSQEh2y3fhtoA3Sx/bWckqwI713GHv0o6UzdFEmzz/ZNeuYD/rQS4RimxvpglQS4YkJzU4NjZ7iiZPtxJeV5CDOlpos+uExaKAHzLyDh/U8onv3sJphCC0uDaCOVbFDr4lG8Qra9RWXEVsLGNB6kY0mRk/HSXz5G7Y+qYk1K/JQIsLDuPAoaQGd839UiSTTA6Wvy9BP3l1bTRAdaT60qXQqC/Co43+1bkIM3TinUfcZ4f5S0NwocoFyqDtn3rw989LBOxr+CTcPHZg3KtkTU+5baQDYdyfuSWZo7SY6B/GUv8yHotwSzFJZdSfmICyAOeIjy/qiIwgHeNGzmK+T6Fr1xNxyjdZwS/sAPI/rqES5H9kPsjeGY3OC4MVC/BVM1XwlGC0BSf/BL8UxTo7gl58I2CpnrCk36ZjvGcp+I3SQyA6KXMFf8A9B84cqe8yaXyQXuOXIEuGNjQ1KyW1BjKAwUQF45fNPKvrmEaL7iQphhenwqeWBznDwFNBaXS12H+RYeXnj7PJRJ554BbQfKd9xfSToRoWA5zfK+h6M/D6gz4v9wBcJoIXhevEOY1Dq2mLAUbk7lp4j1Yiceh9BiApsJUcIV2os2P26nvn4zYzQuuumM9gn9RFg+Knjf7fCaC1eOMHycbaL/OZFY7jFAeceTtphiwXelezuYCuod3XQepRQ81Ws8xiEcbGpu3v09DNbfdFnXpeSMyqE/DOjfr4mIi/KaCAsE9wDrNLxFGxzjOLgVG8Dfh19rEGyKIwWLHzLT0j2Q3zS1wTgLBlOxHZnSNIEx2WrwTZsIF40Xarxif8vf/tV2J0OrrdMuhN9jfQwEuGKCMuJyqvw58uG8QloO76NOdusQ1cNoh0BkGOoyWBEFkZ2M0bsrY0kaSCdq2ArOTbgkYrt0+qriLd+4gaXCMy1XoV982I4rThOVVw1XmL7YCsqIL1pWj2CLwvv/WnLlJzT21709sEpinIyfbijnS+D3WSg+6iz9UNSsN6jfnoqWUv+sVLBsxinTt7669is6lrnvegGXI3XesWO+phxhOn/ypE5xvCp8vIB7OJYRG3NyCJW+xa0nMOTGblqzEHIfJFTeU1CUvAqCGw/N7dHkigp9RqxvZrehEyuLO5HucRYXJTko1cgbzTjVh9GPNnbwZqQrzANDcjwMO6jJFLhjU2Nycup+XyE1Um76HXcwRiIDzusXZBeFVpbmRlqzoQ+N++s76BcytZL6LSZVH9jD1qAODCEkhI2VSocM/EodFnOxpzk6V7QhWAHyYi7qGHH0zXethqRBMcLR2JM0W3kt4outsGkei2efbCypieO46/hBketUNjMZRQ4IcFjodX9+WxMXaTM8Gjvf0YPr/N0TSyAgZCeUWO6WGiKHlsQMWjUOa+vYPQhUngyOYgM7gt/RXVAPFVKnH9tj66wId0S8+tJwaR0A5ZWFeiDfGXlZ6dZRxE86rMFeVvA9cx/VbktnC5cCLVI+STugJyDA+F4Mzoo9nrz+2aVQioh4Tp19H463pDOxkvek9lSJbd3xuX12mVaUeWeIbBAyKOvpQ+UwhLhiMmIicrPPvOAv9fluXYN7IQRzSR5T2A+ejJscR4oTXiOM808w7Pgmg5vFhcFT+MlP6DmQICwF3lmzhwQRLFW/e0rdwW/sNRFA5Iu0hogDm8V+SwriZhVPDSvGpAzgEJ6tW5Qw5AhwIxUaHOg/qI+4A47cgihIivYBztZFW8W1/zr1qXFmMZLCEQEccI6VcLoV4O0eEFEmiMldwUk58ccvY6k63jRrnsB/tDECoSOga9SZHs8x0ZUAlq09JT8GtSANgMhK0u36rU5Z/IMp4548mMf3I5fYtQ860oYwVbomWia2fC3gjAaQwxWEZmuFfGP4d6nwVLhjctMC0wt9Wd269lQceJwmmbOAEk/uGNczMo7vPquG5BZXf7buvuBfaSf5KGRfBo2unhkJtJFIfmA22pgLjCdVYyncu/jBAzhiu125/Xxy25SWgWfGhi5grdxzWXvFuFQTPvGJMg0pJg0LmkicWENNi1eZV7HFSboDY44NdW0oyh8s9OPxkQoVrfDdChze+PikbHJzyDZ53GwLmHrcDCh+dvRovv62zizub1MVaxTh2WnJ8HNhYZ+tvfjUcAE89jqjZb/fgZCLhW7L9rCWCB6thlmWjfaYmbZgl0casaG2lTbHYOmN8C/G2NUe2jLC3KWFVyQSp5oLFTutDHlPs9nwTnawxADvtouBWoWa+VPP41Rui2cG/XzETTBm1agqfMhnZKtbni8SyrMKmx8QcZpEdB4E9nZ1MAAGijAgAAAAAAAAAAAAMAAADYbU+oHP8t/xnz8v8Q/zT/Jf8j/xr/Gv8G/xL/C/8x/wNLhjUxMi8uvlEsoo6lfSPMRbtVELmNRxGVI12ksDQj2i4ifySjkNV9x/beeMY6xmcdsGYFe4MTGAQlCoC+ALhTUca75Hw8k373dVXH4waCFnWaM/9FJ6+fU4JAX+WlIn9UMm+DIxk+ImaSgKDAgijwi51iXk2JmzeW+OhT/IkE7NvWXbEEQJm11L4UJu+Ci5KEXa5GckyR+kLGOZk3cyyNPXmgzfg27J9VVOhe6wQM5/pTxOX/LYSHiuNmr293GfAfvnxHefKSJRzyTkslgIQc8zY1Nnyq9cgSuW2yjoADnrm29VcSa5q78jyQIANv65xcLBF4wM8SSxIHDmC2AW2fVTZoamkLTQyzpA786aPq7YAO8eYB6sqLrJVc59i2421sirUm6ZQ5d8PnYw1LhiUsLTA5tPEjK99Ush7R9Mk1gKVuFlvlosbq/UkRmVyM3PsYmPto+Cr0JK4OY6+aQ4kaEJ/xmdU3vW7V/uAzm9YupWQqk8Csm/xWBemrHz9ktHwfDUSAp8Sia1EnHSzmTs0PHm9fL7oY58Lfu/rYJ6D3zS4/7BFStn5l6524NzHoZndAp0alyl3rua8x/TGjAVz0P0gKo3iLsklBK1K4tyEj3eWbcTybaotCjekWpt7eQVSApKi7m5BNElfceRVgbhYcSzdYzZBD0NHN9AsmHTI1c5pWw8YL8hzebBFn13eUcgv9g8jdFpW8PSesOKgGvGDRoPl47EaNIiwonfjd4AwznrU8CIyw7ZCifsB9P2vjUB9w5kbwS4YlKSkxIzaEBcdbRDSMGwdD/D7Fqh7jApQ5NQPGCgg5YNfSEKPZI/qIrnk2er50IeFzwtHLIDmZ36oqxiLbhAOrM4WAI3jwXPh6B3b3Jdqm/1C72IGmyICady/4PxWf0h0QxmIfCTcmaCddjjc+csgeWUbms2UXen+x+3wwhCO8O3NqOHZe26AxmDt2WveDnSGrV7qXu+364RfQn/uTD2Uy5OqwDZG4DrViHxjq+LTE4KG/dQ7j+pqzrkJYUozua3PQtjxOMIzUK2kHKjlsBG4isFWJ3YUpJv/QjsNAlvE2UjqFf3xyetExlyjGB1PNGX9US4YmLSIkJ7AQPkn0moiZgH5TyJyWj3bhmq8oR1Uzexfpz+gHm/3TILglvNGAsFSEYbY9mcuGdVbikXVDiiqcb0Mg4WJpS3cu/vPRYVlbsQ+BE3bBst1v7guAsE6zAn0GPf6k3N3Va3B/dHEW4KOGvtemNl7FLtcJI9IgVrBRvIqGx5dYiGtb3UO+vD5TOFKLAjIBNkvPDa8/0zYB24gwgK+qVEZCy6BSKIYae2ENVeBqy5KbR85EKXcYuKcfnJA7V7hbKDEk1YK8MnIg1GY6iOQ+4cn/s1SyXjZ2EJNFVa58uqnxd+0saOhkkCkci4GbKwFLhicnKS8uBbMpqMpu72PSqstmaelmbgBvBt5QLK/XL5L3Bpu0u3oQUnherDvQOK8N087Yv8hwc5KfQiD7BoW0Z/0ruk28+M+y14oAqt/5oG6ccR2Age3uEA3cH7du5Bkn5de8SLS+/iH1mBzRM4PJynwBkB/fC+HBRTsD6HA31HDfrRiFXVsPYfo+WMjMi5GxmNu9VRzYuxeAYyKxfSADGQYr3dg5EyXYvCBGgoGi+mV7+QlakmM7Wgd+r5zVlW8jOnr3xd01a7Ns+P/WXZvK33UqClaFE9/ZraCEHIAoq41ljmVXP34HEcydbhDWrbo00hXGlqT9fzO1o6OYddYaDnJy0o4U788OABLUGLyAS4YxQC0sMbMQveamaXzQUtmuNA32K9mdUJ9atkQCW5tuS6+u7ZSh76pkYgsTnUEyzwPWfFFHw9ariWq70s97tXI8ULdTCY9bf76+lB/UyrZDl+Gj7yEIFz5caY4CQAPtb/6/ThsVX0GjLDLmS/BKezaB5e7x96pJhECGnZ2VSM/VblwYYXiyxCgIfCn5X2nOwDMAuvfs8+dP9AWuitKlbTW7krTgkxxYDI9dN5omi7ZoZ7kR0fbRg+o0t3lFkCQsZdJfQOxORXfRER9ZiT3hHTaTKyJvBITez/IKew77J3zsILeDyLXk3tL/pv9ELjcuGcd7PshC5Yba0IJxXC0Aob6ghGqG9r0SiqD0jI68OMFrZKmtGArEWGq45D62MPVhfHsi+NX97uoiYI4FNpwhsQessEuGOTIoJSy0xbyBr9E2jNK5vaBO54YXS69gSflsct3GGee3QMBebvdPxtFAVCAwMvT13Ybd6SecFXiaFbbLcSqw55nq5yHZK/3I+djR5EMEPoO2FvZgntkiNzGFxyDtosbsFUfTMKM1MoXMVsC8TZafQLYPqktgyhSheroE+0ismDhoTP7iRIx0wx0N8xN8xS45QXueCOokzKC24Rp0ZUzpj7PWfximm66ECILLlaaYy7jrj4XgH5WKKhkt7ajAtaEszxV9SNEXFnCp/aYCiiq+qV5wSVHlPNAUffaqLxbgGdxfsTIlvt5kl7iuzdBieApHu/SfVzs/H7qRE4gYdtyVuhPt5lkChJ0XJfaZGz8CxtyE1SvXR93jQf1nmuCz0v2IL5hLhjQuLTQvv1wRhqocZ+12/8n87Z06tIBD6UL+UufXVJSf1dqNLSGTPfrcW2/ElITNy+HvqOx1AjhngJQtlBeBKY7bixaLEVsMN/BEIoJ4YFpSEzZ07SbcNlmdPytkRylD1WR3svG8SWiUEC45zmm1/j46bLeO4BTvbEXanradaFaTRqZ4oucp4o63IfnPXnzGx4hTYCCUHlKOfuyiaKaYJXw7F7LJ0OPkQrvaXV04IkhfxmYcuL8GGinob83WI5vBtNdRUXIVfzMFhLD8t0F/pmvfmXDQzHONx2Qu4jYpN+28+8KtsEgrYvYlfaJd7FQUE5ZNqtQzp4CT4FZaONygCfb876XA5MkLo1ADK8oi0frtroZ97GAs6XT+a6nkvWlBbkuGLzUyMCaDYvayq20/+zmg4tIm/6UBD2+ofuKjpKfKbj9QhDdZ1pa4UMNC6yb0edL68LVmErH5hqJihUUdfckfLW2evQkd0yusMjk4ejpL+0zVI4EBayJBunuFTyOgwZq6xBGLQg+vQWADs8STaRD6dsvZ/ciEc0s4FlKq4HqkXZDLwTskI1WvfbobC9g+KWNYtH09WOvC/vROjmi0AkEotkCfJoaak+ZwA65KttNcZIIVB3g6oAwTNL6VhXCZcFDhFaL33L9kvi2K+361Cc2A2zKyV/qAyBxCPDEazyYE4+wLlT3NYVIFo1ELfV2RPAheELPLWO7STatt+2mqbAx7oZkXE+eWF/uCj9yCKyrGDGYVsMgM1U78S4Y0LywuMLNuC4eXR6ZJCfbBaUlklP3TGpvCTe8o2R6U1NhwCFgpHA5TeuwucxgBo0mvZpGKwAb4YoCsMYak8HnhgbYn/xE3Lql7lDIEUp/kSFcf23GJQjk4o746vmVignKWvzoQjt85IL35jlhP6KkqqVnBHhcf1dLHtZnFhrIroQtmIlWnmdVukU6ad7SS6A3P+ItwiocT037ZMlYhwxaNhYcajcc1d7fW/tI4djfRkcCoaDdl9LKy7a3sXPqEZqFqiIrdt5wocknloOtwa48kukN93eO/mqG8okH/N/PDJynb5JTl8H6JqwqTvl6od49B9jaCV450SE341udg2jQXeoACzsVW3YRyiE/drYb9Tx3mpC0G74BLhjIzLyEngagM301KuTV/y0uCfTRJYo+6Hon/7/WbKyfITkd7UMqlG6waoaa7miHMzWmY3EwRb8Cu5jggywPcDWzIeufI0y/V5EBT3Ltlpk7kOvLWGYLZeYqjI6CQLseEuYicvwKgjHdM84CwqpnoJt8f4BPBxoe11eUwAiZHseQ0q1WoOtju+YcLGAGdwgVjQlP+b042dASs3LUaNhx9daHX24ruO+eq5D9/8LAx6srYuJggyl63fHH/ULUaMtDbsOK0fo74boUK6luzuU6zBs9x+v18PhZZXamXLkkAJyjlobTxLN31HCs01T4B4qNtuLpnKfHJAF2O20+6JKdsbIcaCPxLhiIoNDAxs81OWu8GlVH8zD7sATtv8IEY606ifMUaqlekLMxizVEFgLMUf4NYAO8MqDOsKHWDauz9U7MebH0eZBVzLyx7W9vlOr/YPjpQAnCs+TQWYi0/WeH2/y0AurpJ+AFC7czC8RH4j7jgXWXzCUCjvdAsV/nqN6OazFoBgAVcZqb8shGC4Ptnc+RAsY+LGylhpZEi+u/+obisyDmMNjmRq+j8sIho0VtqMfsGmM+MyyQYhAm3D0wIYtGcGL3xdwdW4s6yTGHuOHn/v8183JZeAWJAUuS/TvQ6/gkUrQ+wcNN7gJAh9GbiVdevYC5q8rNmY8s8GixV9bDTM3ZdpfY10iBKfsQRJ8CG1fEEdEBLhiQmPjIfOJrTi6hODOeUdAZWq6RIC84JdzKDEQDUowVFLq7s7DG6xoWogXRgy6LaHsdlaaI2+LsU9vhHkFUyfgxE8v/j4jj7IWUXx3REw8Crkt3dG4TCoYMEU91o9I2Vxj+eRFWZlbRp8f0R6NOUX9+73Dv6RttbIBnC/mAQw9DrjTYu1ldsYvRrzXMvULVuc1sENk8kvhrD83zjEx5GTLxiTLfCJUJEUnpLcN/eU0SJ8D6pYYbUJngYFZpEWIJwtsC50uXd9BSeqXJoB9PLSQaywLjA1CPj7RElZqHzvrWsxsGHwQ2lwD2OxrNISQo7NxJsLmwiIh/nMMD10idtDlcwFg+MV2dDWEuGMi04MjCsO/b00wd9+qZrpNbY8rDiT7LIJ4WKm6azn4j6auFvs1tWqhZU3MrZRSNULSeIb2wRwKUndOtJBHl1dCFO5A/yFvqM+nsUKEO1sR10w3Rg+SWVZz3r49PXjZek5hMKcKVPg9EsTOdP96RtRkEDNqgP3ReUIj4lSboKsRmCHI5+Bt2oGETzuwLgMlbSeOr3gYTETfg1BpDgpmURc+8Cacg+YcBHM4nyTZHUaE/LkvMF/StiP8+m6gv+PkWQUntuUPAc6TQZehYnehCm4ZL5Dj3ahCF5G3qYAgStLGi7/Gqe3rOwhiw2qQm907/6SGTBlyxtbiCJeikoV2+0S0421DSqFsbq/TVwecGt7aXt1eThOWRRZuNeCDcThzLEx6IviiLfRvofAqJKiIBLhistNSYktkjmHG/IPteqBdzwAnKK9BfoHvJ5GI+ageBt/AgFExb/0OGxIFR36zdC37e5jO73QnQp4f8d9x1+MQ6rbvL7XA1ccsV1Li9P/f12QUTabpp1Y1RdOCpGgL+HHcdLjMJPQKU4rdUKeT4pNBk4jFn9nW5W2zQU4Tx1O1h+1CuHIvXmlWzqNwGt9tGXYsZUBcFfg8jLQ29EkNlvG2WLjIMK0xIlbkuHeNvt7DZTBNFthh+/Ays0elPPzY7cfx2pQknFwl7CNi+pp/8W+WjfNwyjtX9l84sXWdAzSXEdZ8udmLpjfZrzy6aDbcqjsE1ZDybZbgpORJGSaWzIKepPZ2dTAADo9AMAAAAAAAAAAAAEAAAAOAPl1xz/Jf8k8v85/z7/Ff8F/w7/C+//AP8c/zH/LP8RS4YqLTIwMoLjjrpmy4Hwh/t8DI43zlOrZ7w8y7ltolJq7PL2YaqEjpf9y3qvjSuQ/ITW/Ez5RKWL9uHZPqfhGNLlXLCAw16a9jmZZQ3VhQBS5oLYl4arM0YLj+imaLUZlrf4ySlURdpKbO4aWuTT559aBbB0mzBbnq1KtsZb8aj2CO2piuZNoBesCaQEJFzItSWEpI8ZCCW6nsmGI11fIQvxgOylk5KZf6VMcoMO/vHFYT5qVKYlKkZDD2nEEFCgth/sieVQQxDfheJiSP/ZTvF5/6QLqQEK75t8Z7coCYAe0C5nfVjOQ9o7t5eN02+qCYC3mdghyFgrC40F4halweNmEWNAeOWgh5amV+GhKU8S/4/kCJoKeK1Z6+k+MhN6RzCnoEuGMjg0KCWozaYitjkXfYnb4E/B2yHlIfisc1Iasnbxv4gU0UjcGQ5YewaWvCZ4soZKi00+GQqo5b8LTdkARMT79n4YQsPgwHKFny66SmIUTDeqo1p9317imPLoVn2cpzN/eueasbp2Cs6OBpvdvRmgt4Oe1bG8rhtbmQIPJ6btj38fl4MHKFzl6Y4Z4vMQVDtKoeoz4+mPLptXVcD/p7JZNZ/9gLX1RJqIA26bpiH/W5Ofb4qFCxLPBdfF2jH36CMG6gmmdD54yf40Nfe19aANMLhOQsnrkxtZsK7i0phG5UEA0S4hpm4ln8Ic1brCXBWYtgDuYF6uuaVvxAL2YpRfGVF7RFQNr7y3ASzY4wNCN7xz420k8Bkb8gNvK5OdM2ciykuGKSYlIii12gzAcD6rxu9vnezGKk7uWzqhOL7HqhppUjw390qtRlIFSILpvurwKLVemNKw36xyrd92LHiErTjYG63jRUfFwW87tkhB3nNlJEFRxIqQtgWAbfXSd38urMJ8AWs/zniiv0bXEbLHCWKIr5yM7bC116h0sLXSm6e8cKEGnoQns8BCS6YDUU+4R8TnCrReOB6fcRxGlqizmV7FVvWgF3WwtG1NVIISMgPnilOWJANl2z90D19p74X66ukgl+nAr8HZdGRtlhohBThAVybm5L2XwRs6YF4MxGVssLZv7WW4ms2qw70Q6WdDn6JYS4YyQjktLaqTIGeJP2OS/Kv354HKP7Cc6DKbugztkUVQZt+rV2LlmQyNkTNFM/Wtje3+xVVBhcPZpVkAK9eidS4pETaEMN3JBm1CjSsrVjCGfHoC6BzaDvJ/tdnAMQWpnDe+f80qxuUI5dq0LFx8IypzMoOBQzVWJ2UgvwiliGQPxsAE1rPQALWkaJnZr4K8bMvRtaBzsBuiMdOA4Imc5Fo98RCPPEh6kamFoezRpzbHwVhAkxUPbiqQe5z8sAfqjS0NYId5F1hlVB6K8Z89ENhsL5o5Ve6QE9or/wTqZDmwkoWlHh4KhnB4FsoUjKNj4z0VT+l+y7TUriSmiPGdiqTGqkCYuFLfoA0HmAvgkfSLCe+S0EM9OMu7P6wQ6mDZpz6q9lyfBDYwTi6KET1+Gapc4lrGrexgS4YsNDs6MpFaxSl3qFsa7IXlyGpbu1H86GSaqqkYJPtD6XKcbA1iO2b3nW6vFnFwFF7dg6bm6wKqZy+15oTDspRriF4YjodcUL8vHCcuaHyr4Z99czGsf2d180JeMdqLSjll6oYggKuSHQHLqMTflAVIxJhBQ0pHuZm4aeH6YAnPrmv98b85ShSkkVbfHlU98KGxbsz7JF66SWKngRM+r/zAtEwF3jjRfL68AFwKgexx68MAF8THFW3ENNEg7AxHHoig/iQjDMr1K3tn8TFjFGL5w1jM6aT5AYDqQLZV1IiF3yPew6Oisn0xsF6vmt8tyKxnTlhVOKt3AQ378z08NEe/Z7EaEcyamCZBliiAuGEvuaBk+f4txrpER10ImWcu8FAd1GHdu5JnjgSLgff/I4SsOMXfwMsIgu4BzohLhiwxLCossxDy7RO3FSg9K3JGvv4iwUKyyjvWxLxFfm1ybXI3rYpGvL/LSC+k4LJ+40Go/vkSN4hUeFDn5L5MSTAG0/RNJWO31MBhLoc5TAP8QsJKpWxSkF3CKnH20gSbMphwpnEymkpnau7Ba9qwo6crc7aJZFTueb3WM0XwAfnsgfdOJvhY7B5PbTom4TOmP4gAwf9dAFGFFmnIdDsKOF/SObXgyiHw+x2h69xJ9I9LM1BWgjh/AsCjlK0jhUqa8NJmO5mGqG0q75p95VYb0VSYDIwzN5toBhz/P5z4t9bZgo1qtKDNyCJvtKxJDVIQpY+mPa7j7ld1j+wGsWQiV5bRtS5Ouj7kmhqDLG9GWWHOh/hLhiYnLCkrNjONw9Tq2rddnzIa2pTanAsRyH2UUgNvtgwjU9stCAS/tTWDobwzJHgeua2EeMMAx2xosFDcYrTwImXZxMZv6JJUUle8RtxqTjhuP8CBUx0Dae+oTLpgsnp6D36pVbIIElzlKqgdOTyZRe7rb4WKmp0fdnfPB6VBQIQ4cqrfBJeWo8VBRuwR7tnjWubeYmkwdkR0QL00m8EvA9r52gu+tUYZg9OuFnUH7QQWWNdsKiI+mmHbMybP7Mmhgp2X3SnviovfPhYKK/VF05w+O67lA/BK51O+k+7V+rcFDfgKdqrX1GZOlrap+s7RXs2J07xYZLYdi7mVdPqVibeOgEuGLicrKimwoM4mvdKZL1XyRq5PXFZ354xGc48RBTHMeD/pENR89yxxH1eU+1q8JCDq+bCCs5C5liQMCG7vbuns9FltVWdRr+u+0tScw8CibY8aEFknxjQOqMOgsXecuPf7zyy+7f1OO3u3HuR8EdaaOq2F/Zd6lol3lIjIOGdggV9fTFUqwKzKLA6cli+LX939XOWxNz6N1Hxv2sN9Rfws2rWsB3EPCYmfw5H4Tu5uSqkBPxveIAPn1Cq6x3cka6PrGLUU3nbfDcbEwBrgGH3T5ShHPToaw1d/pl3AtVcr+s+qR6zwxjLsR/G5k8yAQj+O52cbbsyGZEiFMJGr1SI7Gk+x9Ef7Ack3u0uAS4YvMComJaXwaleZMhnPLMgxGFFjmbKJWOfkvf15jgKBnW4AwjEh3hlUpVfSLsj8bZYsEZTQveHo6WY7gY0f6xxGAm6eJzKY8ql7N/vhfGaulTv7Rs5NkQLxB6ZO0WPebnzMaarYNQo748KYz3EHDkh5TTeUHcbDBVe9rdWNB2XSqL1El9+2SeJgMRZgzv5ANQ6YERw8/X/1JXQTzquUADepBko2Eiez//o9It2m/y6Gw+MFMsIFOk/vHtM0SaPWu+0HwrXGTQBTfEh51LJa48oWv/15TzeYlVRygVngZh5noIALA4cGVH2NpAp0vkzw+gwuvK+VTI01jzth0YMavLAeDkBB0mCyHMxLhi0qIB0mhC9WlzuB3f3hvuln7IEviv/UI7XfiW0Qe0fZf2sq0eUH5/m3MsEn6nuyZkhIsgfcv68i1+u6CvFjccLSQwijNg6i4FyHZDiTV+Dn8ju7pppomp0qYBNoslBzEIfSqBTpy4jDj6952uU9gsG3K9gSEE02S80EukCzzWP7jgemQ/lMiqGD57ANeX4+YZhYtd0xLLmaILO4+YmlcyzNHk3DLvJ5Ymp/w2xAvE89jAxi4/XW7A0RRVhVR3YEsVwytDvPgdCe5ZwARYB4twfy1WgQfmilXnShtdCSPOGC4qlT7w75HuujLj95iEuGKCkoJCuCOGLvuy4ccSyAyp4Ruw/tfzx0Pw5cOtfKyziwdvfRC7LFrq86kPSANLsRc62mhZqPtgq5Mzt9pBT8+tZITKD1bz6kHy91z+ptGTtxcbNwPjEzJPw2MAukY/bwztRbDPOadScZgB8P8GF9uh4WOBixMpT2maIlpyDeMvlqHrEnk2wqAnragLaPTzBbKF2dvAJHdDKL3CWcJSavRO+AiZ/yW2cNMc4eWphZ1JwkBqizAbLNzqTOF+lcdY8nrUP59gt11621gEq9EIPyvS+i5fXPoYqr4Wdr67Pu5dcgt22IjbO6y16uWc+ypqjpKz6CofiBhnPS364bV0uGMjQ5KCuwRjWnt0TYQOH30UBHja23pbu9PuktzQA+cDBMFKSeSd4KpjZGoeRDXuOoyMX9cOk12LBDdzM2GLMBxtthad4/TmuBP5tyCFNz/zhdSEvt2I+rDXCu1+mK+V5WkdyJOfZjVyKS/FC2WZzIiH7ku0e/PCQs6Nh1Ybm7Hia199yPf6CudHHl7E3IIHNyIwxfHC33sEv2XSRllpA6bLMDe4C4baw3aYFva713F8COWpx7UtbL2PRY/vp1g1nSOMhiB62d5KLFoQNet8/oLNWm66XWwrhUfZNLgSfKjYEZhy1FNhNexqhKVWLPjIvwpJ6Wt8MT3beBSkXGktT+4GQ29GE84h+UcDXdkkTycmhabx66WvPy4chLhjE2Ni8utatyE9XZY25VBthzTrgU8ojDjOD8/SAQRFs+oYF1GCkUEVn0CsD4SmzAKf8qA4AR7q5VyPX+PlnZHFCMSRaUUOUaUX3+Nto0diyf5Gls4aqOuDB6uTYc/WX8KKLd8rsfC3uBzPC+yKrFxPzo32vvciSCV3tGKwObzstfQEfwIScWjooJb9hsTmziXwJ819zH+H748ydhBKW78GHpyJMcMYhafhonTTJGiVaxnxGJBSo6N6gbqTAvixu9Yfsz8GfCOcPn+LpmqUghqdM6kyNGPgseicY/knyE//GaHLyHhpGdpvVoJ5/4FHhDQqUji6Xe4Y/UH3uTpeFn0JMcIoU3A6oI3jLJA3P9VZo5wIXhfeanr7RhUyGeRl7C+dsYeBlMowps0QTgMZaAS4YyNjMsM5LvDZBq3TyBDdr7khWYhEw2em1yVTg5Q8Fk3vDhSeRwMQdCzbv60AnNadL3g4nS0QxMrzom6/18THOQKBIEerY0ZDieJuejyqAjk/Q6crsAedbW2TPpdw1jUzm65S6achlZm7/nOeQetlI3m9nXO4Kg4kKhtanQS7EVRNPetZB85z2oTf2Mznr3XXeHi3NgGAbldJs3a6C9eDTdtdHffYK/t9Bm0UTwIwNHyhvXpOcsPOB8wln7ubFwRuo5QEraKgy5u1MPa4CyBHCz3rYs1dliEnrDil04Mf/s86vuTFmCl0TGx2DhNAlJ0N/OwdEAP5N7ki4l8nU6EDiyBGpcMplnpGwXMXkY51jPAj3HQU4OGZx4/RcDQqkw30JomJX1z2QuBYBLhicqKSszse2FEYgei/XuvADnfOXy4sJk0EJHijifkEu5yB7FIa4iusiqC9/Qsk4E3HeKFewbRonPoYDWaeJJEmmNtLZPuTkL1XsQJgZ8TFBducBLZl2EtRPzJyKzlQ+3G3FV2URftCC2WVSej5tpml8GsEVC45TfHPXdAHTrRqCzD87uDfhTN6f2TDzWQn+Zxb31fhd4PWqLHe6Lxq/X/HUWsnlHQu+GFhxApyz7xLvVnCINo4a/AhPU9yF9LG31LC7BPZTvR37bQiLFND3KTaQO8q65fhBWe6bHTKvAjSMLPOno71xxCsHKwbmSZiuVcitFGYB9ulNCIr5fDP0EadkUHN+pGc5M4d/aT+0lOk9nZ1MAAGhGBQAAAAAAAAAAAAUAAAAdIUeHHP8t+/8k/wz/H/8X/xn/T/9A/xzz/xf/QP8B/01LhisqKzE1gyKqUe9g7z+IFulOKFBgbpair6t1M8813Q4qXsczSDLZU6DHIzbDtiSOYI3vLoyITl6MvwLU/4B1pCUoD9v1LwsftA/iADVEu3fxgBeF8Z5HhKUCgDlzI3qzGdpSmXp3WMeNnqqiToauA9hOa52y4Y2OQafNRukp+eFxUfXK4mCK4sa79JDZj/iCfxRY1+HIic5StNQpAeoXezKrVw0oWPNNd1csQrc96ZXtX8FuW959nXV9Gm9IvOlyHJ6dVNApXdOKJo/Q5BJT1yS4EmEEChqCUv7V4OyN5svnwCmDmJ/+6QyaTcCgiw+dPwZRf4zmf/BS2uh8VsBtMwKXS1z0jfBN02bcrfaTwv580F85ZUABx9QpBHXstRIuz6j+YgUSs4qdyqBLhi0nJi4ltr3/sseHdhRQAd3avuOSKebvg1NhcL2a3F8LYICjQrPcjTqujmWAUhL5VIdQtQaZRazQ8S+Zuv11N53YMoT3tnOuZ/BjdUIYPakMQnjzoIMawHyAtQiBgvDfKaK5HRUaX020PlWhoO2WJPpuLzDvo1pEIXP7o9vehi+05PvUbo6TUuB+ys6Vj7PwKYCan5a9w1DSGK161TQtoWdcFQLJdBYDoDaxzZzwr8FFqnaXj5Na6MQlCdyb2u/uOCe1kJO0A2/AoQeZYgaHSBQzxalewGe96ZZbaNffYrLCy4pKvy3w1pDG7PdTDSeeAI+HC+9LCIWflEuGKSwxMTGnRFrOMhcqD0mZ4KxG5xkmBMaUzJUa47wDFR2z3Bd6CoBbJ7iPajPNRKObckkhm+UojxKqSB77UyiJyBIEih7r8rHvLTbSnOLmRgEVzBOP9sD619B8ovm5o/qfwlU3aWCtMF9wMTDmKuGZAdSVLe9zZ/vxPX0tB0YP/QK5pX5Kq1VnPtCBUKbeei+K8CULbnrKZ9MXZIjaniXhmSjcjW2N9isCQbGzdFYfPdcOzeixQLakHErhwB2pzAA7JtCo1U+JxRCS23vjvdvF3EX2/JjDns5Xu19LqcuzXF7q0IhpXXdW3lW2eL3+q9PROuV5mA3vTnQeJntfrss+dTKBcaEPA8eEp2aKIFd588tMefULVE2voDcUxAoV7hISYEuGLyY0KSmwShoS0sOGrvk76ifznOZpna6yDFoqz6Npexwd3N2twYL0dZn3rICn9YJ4YZECgK/BCtW1Wt14+aNSKDrwmMjBqPMCtWI2CqX/lM2ndxAnvRPpA9rspdEAR15Ea9n5VCHKwLfEUGK10g1E8HVYrxAbeTF/UVX2Tnmh79XYynbZp5QwjNDUJRaogDR6/1dHdzcm8yPLRNGSg5ooYrCtvUcDWVoiv9gYYAWjCM6Jf6kEdNVAMpGMo+/0RMnlI6gRu56HWnFsVdRvpwoeHoMvsy/g3Y8FXdD5pxCWNOAxUwLwkzFy+PZBjhhWXNJKNKF+peHewAM6gllDmbVov55jUZkMtECPgEuGKy0qJToxOIbU7qfVo/AF1JWuICVmRsAAYGdTLGmA47cxIEK4+etNy3OCkDKXAsPaMVNJiNsrIDFmJM1cc9cN2LPTnkA4VBSur8d7U/eRbhhw2/kM0wuqsImYC6KAMVOvnSdzV+yYC05/rm2RwOsWlcRHAOmcFlaZeagQrmWHiX43JT4Lh/PUMTj93M25rfX43Z+ExFAeE852q7n9NunAiqgTqrp6vNFZze/3wL2vhPKE0fxDPoCNXCEojfdq+BR06+KBTR8ovdc4ppqcVu2d1UfFdKAUgeqF3C91auyma4RzgQkUooCxXgxrCxpS2E3oejlgPcLo2MedTyPIi0L7I6+WPK6Xi8IQZxT3QesqpUzrrWCnhE6lF6Xaf9JLhi0uLi8xqOQnROjKS7f+vRh0FTxQzKng4b0zTq8b9AzgjI2UpcdCCVgjFT+fMby/8y9SpOYsxM8t6CZpAik25hkqut+aX2Y9n2+br1WK34pyccyxGMh4peYpGrikGh/LgKJrGBEtkVxDueHUEC0mLJPtY2g+Y9xxAG3xjFNp6lnoqZUZD6ixh125GlooltygvrZvIxv5kSMO7lJTBu8jIve7U3QblUL6aEpfRANa/fbE7+g2GwIzRvqedM3fQL3D/e+AnPvCZ6uHTInxTzLQCcaCZuZAo18mZrWACV9SPq9fWXlZ7KfDB2oMXgHh0PQzJ6wyJlRe5hCuqysW92JNnxlwnSMV/Ei6jPDdFFwCrWgaI7qXGEuGKCYzKy8y1USq9yWxz5uEkmyhWoTDugv0v4ovKCA92jv2r1je/zEUkAT3nbwQMKiz3AUbImh71glxBi00B2lUwfeLFMTey+hCE9sBHE5IFmpEjEyCXAw0UEKkOLv6I3DuRTmyTUilQDGlX6loG07s+zEJ6iaNhn15oPhb953KxR+wCv+oH6WSWhMj3bTGjiLvsFr/s3A8Fo8XfDW1ibKysWkrkIqc6LjQI9DA4DBRdBkQg4aFw13NuGooRZv8nMaJ0A/TUeNuIjLnL2cB6ds0mw/zZ8w7GPs0Z+tcbORR6LODvf2P2h4brBXMVY1T2S2+5XvV1v3euvLclOxEI4RX3RBRGfxLjJ+/qfpGGqzfzVsuHRWuZbBLhjY2Njg1q0YVG+4gFfOYx4w2P44tANyk8L/txHeP4eRl5XwR4HEtiMTWbd8pd+VpDkC0w5IYpgopj56Kq4ARieUAxmSqjttsCbQMsIrdBisaRDAWLKnpjDDvW2jWigipCU2FTND/fe8hJL/N8BlWDqEgrnukP2+F6pI6p2NO6+HxSLPJs1qGIRhp3VM5Xmnqh0d/SlZnR8Fh0dq6pkJgAukSkdzUKN02rEWePYeo+KHQqtrodY2bq107yE7RJXRyT9LtjUj6JnuYwSWigiBAd+6tUU/8vG6wSve6GTPGGPKgz2vlDXvu10teWTQVjxWyanyTYQSev9hO9qj3Wjwha4YUpgTYS7VJvif2vNDMo8R6nKCggJ1koPEKzoALMbrMfoGN3kwi1xDZ+lDBgZH48YTWx56GwxpK/ezYZP9kw42Ngb85o3eDVRIjXtAwS4Y1MjM6Np1iFO0KFze2tNpw7tBlBExAtXVG0ndZIl3caFqkohusXObbv4ZqsMMc1a1DUwCX4vibVyjRnUkAJLX5hZRrNLDq647hBYUtqSnJD/ksjjAwxSQBzEfhnPRX1PdqQcZQwlYgObZS7sKcnMC5GzFzfdjYTu0aQ7VlutBmLiIJlvyF/lPr2T35DWT4lfP+lMujtaCBw99JNOQMGc6fplwdnqM3pZl148g/nKtOYR3pSAIKF6GU+4j2rGE+wmhCIcT8j7GnqrSR4dyD2+cf+XfLhRB6Q2vgsq9WACYbd8jkDO5qW5Ze4BAbT/uZFKR+bw1UHRRifHKD6/Ivc9SiZsEi5lNO94/k+aISHY4Qtvadl2Th9Q8oiPQYPEVsPGljFM1zDNhOMKYYJLoId/JFLuiRsDlGLB2tyMV1wEuGKi4yMzG4FzAnO2b5U6A86b8IXaOmlutB5rBcWtSI1lvc1SKMoBAOn2BOKdNJhG67PMbgGPDcF5aQx8TVP5jv16qJVAODb3/O2vYaiKnMFlt+ENoV6pLlwc333U+Wt3ARsdgedAi+qSXKkJCY2A39mDRYho8T6SPinaMgpZwKDpJxeyXkY/JvNB/PgTtMOsSyI74GjTDuCoFQT1eIo27wMeLrX7JGi0hDHTmgYb7hp9ozV0ptHfBIse0q4ZSOeiBR/yC0BngkpIrMuVm292oWSfUQKjAokCKxABF8KDG4cCxkDt4Dd17iTg/Ec6zZZU96X3uGtbYiKS6YoCCDoxxpQW8tWTLddfwdvQMz9libxon30ZY0L6dJlshLhiswJCMktSYqCc3fba17TGa1h4QBA7TqfJNADM7BuV+t4WYCNVKh5fPQajbb5JdqsLepX+Sgkhj0lMfRzVx2bY6E6qjsCCiN54GdJ8vhdACOTVRWcUfoEH8UGy0F2qMEnLe72r1I2RnYrVhDRnu4ob5vaI2foGb1iNMCA0txr1MwCiIyDra9ulDyrQbVu6TFq0fOnqeKUOIs8N9L+DO7zsagaZzf9erwteyDONUu4Qzsfj9OYJrBV+5qqIFYlKS8b0JKgb68Eo1Xjmagtg2em5sdjQeCjzu9n7UZ7sxhr7XeT/dAL8nqnDN31i6Df2UlAkBLhiUjJTI7ttS/AVb0vOZLJ1M4ovayikbJ7aqwd6YBnjj512Eryk2p5f8MILbMjWAE6iJwYxfj6V0yri6gtPUeRtfo+E6IeXCJkKqNVaTAteGbcJM5Qo3vpIDClXr8kehMENIWkhROMz0TRCyNZAJFdD+CgLFc/hCnYKjL1Borxn2JqfWntnIH3Refo0lZa2by0eUiDdfc87BqM/mleZJoaavLN7ogogumH1ZaMy0HrNkezHWtIpq9MWlGZMSxRL5GnMiZ8HO4k1q+H+x5nZEVfA3MR0gCBk34RJAZ3NiaE4Cf8xAKLQAutBUshme9LNAIdFaW8ZRXMoI0YEqgF71XFpmkwd+r8kAq+IcBcd1ERcIBYzd44EuGMTg7PC+9/SQq2X3wu3zleWcIZ50opna28P5v6BHXwOPqA0XD86kyXRFQatBc/ooixhrjYkPAvdkZt1iO9rQc/rguk6bPV8TTTh5mR06XBbEkLEv3UhK9GlFFraJJ/OBMQbwp0jhe4YBkdvm1Y9ClmRVT92A4SvJj4WYAJ64Ky2MkxUFgBM663Bn+a8fyfcAlH7ywDjRqbuv1sE5Fs254XLK1ETcLWCaVgK08T2AHVxzOPDiKZiDKTqYmT5ftbyC6kxL1U90SH23GqjcJj+6shjJSD2CZEJe3Wvc/ZVkieHBuhM31JLVfa4mm7PnqzSUdofrcoMusS+OR4E8wQ7fNIdI3RY6LjcTpnHDSDPBiqPlHK10gtO1+L8M49tVKOuUvsUsIFQLZWAfLQ+Z11hgr4bJN4gd3RmRaLayV64FLhiQlIi8ss5oKAhTFj10/86WcmtzftS3g/x7wFgFQDvOjA8Iu6H1qCiSqsivkwtcja5qTO9+Zn5jp3xUFQNEBVV0t5uP59nL8vIw81SCPt7UZfQXhUJyzccp3qExKHEm3Ef14rQIG0yUR1BFiHbh+wUS2IwRs4D/1wsXTFrRX02YXG+MuBlQPjR3WRuUttrJH/PjNLMDMPWg8PRE9ZIB8YLeZxzxgyEIvbirh03gkIgQdGpeNzACtWa4qqVY2pFHfnHLsxZGunby7RoKAvqV4N8Wib3P3MxkAdDOPHyvxp7B3o6wdTxTNtAWMYhh+nJ5p40iCIRBG2Ypt1YEm4fI8S4Y8NTQ2Ob8oSHhnejLaX1I4sivJ9ceJ0GCxi91/aVhVlkC/otc+0xbSie3TMAqrjjxpmDEmdZnvepwJmAnYztXgYL+OZEfuV+d4hAfAOUC7Vc0/9+OT6gevWWCJHYueq14ZftpvIPnSHKRX4O/v9JFMYoFamgPEv4iOJ/nfsxZt8efHs/kdnGIW55/ivBfWG7zzSt6cDelAkIwGNOPUDujGo6UBnEWTPUORIK6X041njM3h6QCu6FCrBbe/gb/nZNd2o4+9dqDkW8xQ+Ea5nN0mlgQtu5iiHSWGA5+CXmIfDL9D1J29IVj9Jcwov4h5j/DHaZQMs/Aflh0gGsQhjIOVhjTqolLASbMQajuQ6vkBjmDk8APcYpm9GrVkvrdgOfIhytLkkn08I5qZhHSo7ceQR3GYchtbC9RLJdmAbb70tG8J3OdQkg5j9AxPZ2dTAACoBQYAAAAAAAAAAAAGAAAAVQouNQ74/xX/J/8N9PX/CP8lokuGKyQqJiq3LhBwSosP499pC4xKYTEvABHdzxReTt8Hld/dQJEp6IhR7dTo3Y8wfQCAt9QVQiCB9sLb25XGpgEXzfIF12iHwlI+2WKEphPoOG+lNYQ5t96mXlpCv91ldLYXwuaAdnrYnFR/zkWwuNdYFIyXkmQa0qfrSWznn2mguZg0DfbGnJSqyvzAIcS0I43jLDhiU2o3m0/tbq0HZygaQlaukWS5SxmYXaL6DE6u28TH70GgbnfIcB/sjBY7U6kAbkoUD4yLqpAjpOV0h8y3pY0ZoAmKJdryKQavhZgRlrIEsgoWjM3eGs7tZRWYJIolT7ASxsvgS4YoJy4vN7WyBmGjTaX8owGr4Quolw//vJA2o5Zgl5oVe90KZCek+nVW4sWYxMCvzIfi49d8QrZ+UTW4mfPjf8rpkGgp9AALTphgdyGRijrkdUa+462sX51OdDjsCahi1Ok8IC+/ssMCd146RcfhbyZf0lYEHs1qrJpv4vMN2sRBOZisp0WZhRwECeNgy0B2i2q6IpYLV+6UML7Cican0WPTyedDApTp4JFbxybKb22/uXCjXgoSeCDKh87N6c7hslZ+dsFFv6AErDmC4WweTK04BgBgI5puaLzQ9aIcSYlFeLvou7jqAbvgiz/qOjI4WoGRpx8SoSpPTN43mIFLNjyB/2G+dr0TlVGxCX8LJCnQHKVgS4YkNDQvNYGUB05R5xq+CrHsiU2a8Q8M6rYJBx+zAk7xpr9CdvRlAf1hMIsLS6IZ5KJO+KH1e9Wk9awMmpuy4T1b/QgCx1yc0puxxhDm3CZ2JfAMTjmBeIvorvAB6OiMIrx6yXSsRARUrPEN3gCwC/W1fcLdcUTTF6WlCRzgBec1zstJ9vomm/SN91sRb4tOZFoujakYDTeWHMedGx1Iswu/y4d1DrcoQW2kn3jMXlituHys52nTRJvqyvlmBvdAQsCOSwT1Y+H0a8YFUMlQre8Hkgw0Ck8X3XXtYjklcphomPCMQDNq00UT+N8hyEd2vyTpt7cv+I8eZ5bb6I8ACEeoXFKyUXs4mbjBe9nLi0PIXdqJaDx8AvDSFUFZsHkwgkFJOvKAS4YmLyosKo4jEQFrP195s7od1YNSh12EUMSGvq96CdE+Xm+nnYVL50672zxLjh9gJD6u5LJ2oUPp65gJQJ1weUUKHdG1ydxWq/T2yCRpdmkFUJd28uMLXTArhe6N9C9I2sDwqaR/FZ3JHrZH2me6ju5t0LB4GC5q+e7qRac8cWWkjU9oFCCNhu2FrDPWj+Je19PUKe/ZgYq7E3Xa0ZtfRFiL2D3t7tJdAa5A3mY7UFK1mI0O+1U27CyYL2EuH8MGwkSLzJUZDg0ftlauWRuZf5Xgt6LZo2vNwIkhIIzepf6e5AnQdZtbYZD5zlcNUyJHCY587wG+TlplSuo5bQ2u7XAvwZ97mUUtK5giHEuGKSokKSiB7gmuZK4EJe1sq/IV/bxRZpG+UWQLHvC/E+1K00c34Iz/Gn/Q+3kG0IvD3Wtf/BikBaMAujXvFhfDWpTYoZyShnQjuVPTRpXNVw6iQQyU2s7C3DTiasLFkNZChWhEy9J6t/0Ptr71xCNHnK9MzKj51boQ9Wn2TjNJcXomvunp2Q0hDae5SJDy5CJVXfEzWH36K0CdrY+TXp4Pj2n5a4PwNHV76XRSGPf1wyWPYJ0cNXNuNYu4lW3xiARMLbOpKbbB5su6qgfnQDL4omFO3O05M+YcPdluWQR22/p47sl0j8kqLCSc+FewTCJFglBLhignKyIlMUBofW6MZ2rYTOply4AB6HKWYENQy0eSqUNXPf0cVwdNmR4rcmHucATS9qjGM0QtDYUkD/p1+vhYHJtmzY04Ef9OcaNwu804X9nd9+swiDHvPoziTw5PB0hBxkKca7V2X5rtjxKwbOW4RVwjAaqPMR4QjGJBfywtS7oxO7GuihOSm2tQqb5E577pOEbOvFjSVtE834yAk63wNYcgMTu2/eA6tc1PpEcjNOjpceFdh9bPeGZYdayRywmMdRfeBgr8fIEtdTiJbT71p+VmBunZWr/t1ZoOqRB+WEuzoS7L8C9W5vEoAgHawhYZuFQLwEuGMS0rKSOEy2odakkfQOtkN44DR7hJ+nk9sO+w8nX9YSlzI/4lNHaJGtw25BH2LSjkiN9eosdAtp2SMjBFgdWz6Z7XZb0iPluDfqStf9p1wXMvvSCcQsHlu56m9OiGT/XG2U2wtkxbul2/RoBBvhNIW5+Z3jfRNumV/ZrgZumF0P1cpLHjRXnvgNloYdaOdLmei2m2yzPJVM0o4uFBqnklN/D5Av37tUAGUR59XDboNRQApM1tCIuAuoXBnL9h6G7VKyfYpjRFjIcz6Q+PK55x5iP8lZ3dC7p6LeC6MVsMGPVuiP+bhKugJEeAhoKlXvEUAFJfOGVh657bm+gGswOKvpp0Y8eAS4YsLTAqMraUV6pusgWUt9zNo04ZUve8dbGxYF2bNUU2VzDrlYGUr/anF+BCCX0Q11Bgsi5G/zC9km9McAx1seSrwU6vfu7uHhjCVFr3kZ6dzKiBrSm6e0cvq1JoArpqtEgl7st9gmzAOP9ysC/CdxqbnILjw8+9T9GFUVYBqbttlHC59iY1vkwcu+zPWqaAsycyFDf/U/g4UcEaF1jNxyFCFY+RxmxOFmnCmdH2j5upt70cS4/QI+TIrETDNpIm9RqZdEyQwmfzt9xQt+M82a2la5sxpT5q6OwnCu0d7193ALcAOGg6JluiHfCg0FmIfVh6rNuZNEmZdCV58n/bSpNiypAJ5bgRCEYKXuwPt8voPvSTtscTWBDXURFqqu42uKuH8EuDNjCc+GUAyMD4VzLhjYR8Bb+vS0x0phaa3uoP5WpXr0Gxthry7ekECnN/GA1s44F2VfKt2EWXaOCcL8KfnpkrIzl7KHzXRgd3yX7kFK8nvtT8kHqDhx/Hqtevr/eRKlfV1FpUZ8K+YeCEd+TbtcWjN028GLt56ZtB17Wc4XTydeUK+T6bmaD1HnbNSKRKovhuDPyQt763b3ju7WS6S4DS2Q==\" type=\"audio/ogg\" />\n",
              "                    Your browser does not support the audio element.\n",
              "                </audio>\n",
              "              "
            ]
          },
          "metadata": {}
        },
        {
          "output_type": "stream",
          "name": "stdout",
          "text": [
            "🔍 Predicted Emotion: bhuvana\n"
          ]
        }
      ],
      "source": [
        "from google.colab import files\n",
        "from IPython.display import Audio, display\n",
        "\n",
        "uploaded = files.upload()\n",
        "\n",
        "def predict_emotion(file_path):\n",
        "    mfcc = extract_features(file_path)\n",
        "    if mfcc is not None:\n",
        "        return model.predict(mfcc.reshape(1, -1))[0]\n",
        "    else:\n",
        "        return \"Could not process audio\"\n",
        "\n",
        "# ✅ Loop through uploaded files\n",
        "for fname in uploaded.keys():\n",
        "    print(f\"🎧 Playing: {fname}\")\n",
        "    display(Audio(fname))  # 🔊 Play the uploaded audio\n",
        "\n",
        "    emotion = predict_emotion(fname)\n",
        "    print(f\"🔍 Predicted Emotion: {emotion}\")"
      ]
    },
    {
      "cell_type": "code",
      "execution_count": 64,
      "metadata": {
        "id": "NCz-v9SwYEF9",
        "colab": {
          "base_uri": "https://localhost:8080/"
        },
        "outputId": "c1cd5863-8610-44a0-8d63-b3799b9ed517"
      },
      "outputs": [
        {
          "output_type": "stream",
          "name": "stdout",
          "text": [
            "WhatsApp Audio 2025-07-18 at 12.04.12_64934e8e.waptt (1).opus:bhuvana\n"
          ]
        }
      ],
      "source": [
        "for fname in uploaded.keys():\n",
        "  print(f\"{fname}:{predict_emotion(fname)}\")"
      ]
    },
    {
      "cell_type": "markdown",
      "metadata": {
        "id": "nXScJo3-X8Lc"
      },
      "source": []
    }
  ],
  "metadata": {
    "colab": {
      "provenance": []
    },
    "kernelspec": {
      "display_name": "Python 3",
      "name": "python3"
    },
    "language_info": {
      "name": "python"
    }
  },
  "nbformat": 4,
  "nbformat_minor": 0
}