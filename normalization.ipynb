{
  "nbformat": 4,
  "nbformat_minor": 0,
  "metadata": {
    "colab": {
      "provenance": []
    },
    "kernelspec": {
      "name": "python3",
      "display_name": "Python 3"
    },
    "language_info": {
      "name": "python"
    }
  },
  "cells": [
    {
      "cell_type": "code",
      "metadata": {
        "id": "e300ad4b"
      },
      "source": [
        "text = \"There is a beautiful mountain\"\n",
        "normalized_text = text.lower()\n"
      ],
      "execution_count": 24,
      "outputs": []
    },
    {
      "cell_type": "code",
      "source": [
        "normalized_text=\" \".join(c for c in normalized_text if c.isalnum() or c.isspace())"
      ],
      "metadata": {
        "id": "zgMb4Hkrz1rH"
      },
      "execution_count": 25,
      "outputs": []
    },
    {
      "cell_type": "code",
      "source": [
        "normalized_text=\" \".join(normalized_text.split())\n",
        "print(\"original text:\",text)\n",
        "print(\"Normalized Text:\",normalized_text)"
      ],
      "metadata": {
        "colab": {
          "base_uri": "https://localhost:8080/"
        },
        "id": "poQ9XXcL0S5A",
        "outputId": "7563d61a-8677-4334-ecc4-168de8fe3253"
      },
      "execution_count": 26,
      "outputs": [
        {
          "output_type": "stream",
          "name": "stdout",
          "text": [
            "original text: There is a beautiful mountain\n",
            "Normalized Text: t h e r e i s a b e a u t i f u l m o u n t a i n\n"
          ]
        }
      ]
    }
  ]
}